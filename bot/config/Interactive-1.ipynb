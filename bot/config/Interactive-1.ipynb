{
 "cells": [
  {
   "cell_type": "markdown",
   "metadata": {
    "isInteractiveWindowMessageCell": true
   },
   "source": [
    "Подключено к Python 3.11.5"
   ]
  },
  {
   "cell_type": "code",
   "execution_count": 1,
   "metadata": {},
   "outputs": [
    {
     "ename": "RuntimeError",
     "evalue": "This event loop is already running",
     "output_type": "error",
     "traceback": [
      "\u001b[0;31m---------------------------------------------------------------------------\u001b[0m",
      "\u001b[0;31mRuntimeError\u001b[0m                              Traceback (most recent call last)",
      "\u001b[1;32m/workspaces/seocringe_bot/bot/config/atc_scraper.py\u001b[0m in \u001b[0;36mline 26\n\u001b[1;32m     <a href='file:///workspaces/seocringe_bot/bot/config/atc_scraper.py?line=23'>24</a>\u001b[0m \u001b[39mif\u001b[39;00m \u001b[39m__name__\u001b[39m \u001b[39m==\u001b[39m \u001b[39m\"\u001b[39m\u001b[39m__main__\u001b[39m\u001b[39m\"\u001b[39m:\n\u001b[1;32m     <a href='file:///workspaces/seocringe_bot/bot/config/atc_scraper.py?line=24'>25</a>\u001b[0m     loop \u001b[39m=\u001b[39m asyncio\u001b[39m.\u001b[39mget_event_loop()\n\u001b[0;32m---> <a href='file:///workspaces/seocringe_bot/bot/config/atc_scraper.py?line=25'>26</a>\u001b[0m     file_path \u001b[39m=\u001b[39m loop\u001b[39m.\u001b[39;49mrun_until_complete(scrape_and_save_atc_data())\n\u001b[1;32m     <a href='file:///workspaces/seocringe_bot/bot/config/atc_scraper.py?line=26'>27</a>\u001b[0m     \u001b[39mprint\u001b[39m(\u001b[39mf\u001b[39m\u001b[39m\"\u001b[39m\u001b[39mData saved to \u001b[39m\u001b[39m{\u001b[39;00mfile_path\u001b[39m}\u001b[39;00m\u001b[39m\"\u001b[39m)\n",
      "File \u001b[0;32m~/.pyenv/versions/3.11.5/lib/python3.11/asyncio/base_events.py:629\u001b[0m, in \u001b[0;36mBaseEventLoop.run_until_complete\u001b[0;34m(self, future)\u001b[0m\n\u001b[1;32m    <a href='file:///home/codespace/.pyenv/versions/3.11.5/lib/python3.11/asyncio/base_events.py?line=617'>618</a>\u001b[0m \u001b[39m\u001b[39m\u001b[39m\"\"\"Run until the Future is done.\u001b[39;00m\n\u001b[1;32m    <a href='file:///home/codespace/.pyenv/versions/3.11.5/lib/python3.11/asyncio/base_events.py?line=618'>619</a>\u001b[0m \n\u001b[1;32m    <a href='file:///home/codespace/.pyenv/versions/3.11.5/lib/python3.11/asyncio/base_events.py?line=619'>620</a>\u001b[0m \u001b[39mIf the argument is a coroutine, it is wrapped in a Task.\u001b[39;00m\n\u001b[0;32m   (...)\u001b[0m\n\u001b[1;32m    <a href='file:///home/codespace/.pyenv/versions/3.11.5/lib/python3.11/asyncio/base_events.py?line=625'>626</a>\u001b[0m \u001b[39mReturn the Future's result, or raise its exception.\u001b[39;00m\n\u001b[1;32m    <a href='file:///home/codespace/.pyenv/versions/3.11.5/lib/python3.11/asyncio/base_events.py?line=626'>627</a>\u001b[0m \u001b[39m\"\"\"\u001b[39;00m\n\u001b[1;32m    <a href='file:///home/codespace/.pyenv/versions/3.11.5/lib/python3.11/asyncio/base_events.py?line=627'>628</a>\u001b[0m \u001b[39mself\u001b[39m\u001b[39m.\u001b[39m_check_closed()\n\u001b[0;32m--> <a href='file:///home/codespace/.pyenv/versions/3.11.5/lib/python3.11/asyncio/base_events.py?line=628'>629</a>\u001b[0m \u001b[39mself\u001b[39;49m\u001b[39m.\u001b[39;49m_check_running()\n\u001b[1;32m    <a href='file:///home/codespace/.pyenv/versions/3.11.5/lib/python3.11/asyncio/base_events.py?line=630'>631</a>\u001b[0m new_task \u001b[39m=\u001b[39m \u001b[39mnot\u001b[39;00m futures\u001b[39m.\u001b[39misfuture(future)\n\u001b[1;32m    <a href='file:///home/codespace/.pyenv/versions/3.11.5/lib/python3.11/asyncio/base_events.py?line=631'>632</a>\u001b[0m future \u001b[39m=\u001b[39m tasks\u001b[39m.\u001b[39mensure_future(future, loop\u001b[39m=\u001b[39m\u001b[39mself\u001b[39m)\n",
      "File \u001b[0;32m~/.pyenv/versions/3.11.5/lib/python3.11/asyncio/base_events.py:588\u001b[0m, in \u001b[0;36mBaseEventLoop._check_running\u001b[0;34m(self)\u001b[0m\n\u001b[1;32m    <a href='file:///home/codespace/.pyenv/versions/3.11.5/lib/python3.11/asyncio/base_events.py?line=585'>586</a>\u001b[0m \u001b[39mdef\u001b[39;00m \u001b[39m_check_running\u001b[39m(\u001b[39mself\u001b[39m):\n\u001b[1;32m    <a href='file:///home/codespace/.pyenv/versions/3.11.5/lib/python3.11/asyncio/base_events.py?line=586'>587</a>\u001b[0m     \u001b[39mif\u001b[39;00m \u001b[39mself\u001b[39m\u001b[39m.\u001b[39mis_running():\n\u001b[0;32m--> <a href='file:///home/codespace/.pyenv/versions/3.11.5/lib/python3.11/asyncio/base_events.py?line=587'>588</a>\u001b[0m         \u001b[39mraise\u001b[39;00m \u001b[39mRuntimeError\u001b[39;00m(\u001b[39m'\u001b[39m\u001b[39mThis event loop is already running\u001b[39m\u001b[39m'\u001b[39m)\n\u001b[1;32m    <a href='file:///home/codespace/.pyenv/versions/3.11.5/lib/python3.11/asyncio/base_events.py?line=588'>589</a>\u001b[0m     \u001b[39mif\u001b[39;00m events\u001b[39m.\u001b[39m_get_running_loop() \u001b[39mis\u001b[39;00m \u001b[39mnot\u001b[39;00m \u001b[39mNone\u001b[39;00m:\n\u001b[1;32m    <a href='file:///home/codespace/.pyenv/versions/3.11.5/lib/python3.11/asyncio/base_events.py?line=589'>590</a>\u001b[0m         \u001b[39mraise\u001b[39;00m \u001b[39mRuntimeError\u001b[39;00m(\n\u001b[1;32m    <a href='file:///home/codespace/.pyenv/versions/3.11.5/lib/python3.11/asyncio/base_events.py?line=590'>591</a>\u001b[0m             \u001b[39m'\u001b[39m\u001b[39mCannot run the event loop while another loop is running\u001b[39m\u001b[39m'\u001b[39m)\n",
      "\u001b[0;31mRuntimeError\u001b[0m: This event loop is already running"
     ]
    }
   ],
   "source": [
    "import asyncio\n",
    "import pandas as pd\n",
    "\n",
    "class WHOCCAtcDddIndex:\n",
    "\n",
    "    def __init__(self):\n",
    "        self.base_url = \"https://www.whocc.no/atc_ddd_index\"\n",
    "\n",
    "    async def fetch_data(self):\n",
    "        pass\n",
    "\n",
    "\n",
    "async def scrape_and_save_atc_data():\n",
    "    scraper = WHOCCAtcDddIndex()\n",
    "    data = await scraper.fetch_data()\n",
    "\n",
    "    df = pd.DataFrame(data)  # Пример: замените на фактическую обработку данных\n",
    "    file_name = \"atc_data.xlsx\"\n",
    "    df.to_excel(file_name, index=False)\n",
    "    return file_name\n",
    "\n",
    "\n",
    "# Эта часть для тестирования скрипта, если запускается как основная программа\n",
    "if __name__ == \"__main__\":\n",
    "    loop = asyncio.get_event_loop()\n",
    "    file_path = loop.run_until_complete(scrape_and_save_atc_data())\n",
    "    print(f\"Data saved to {file_path}\")"
   ]
  }
 ],
 "metadata": {
  "kernelspec": {
   "display_name": "Python 3",
   "language": "python",
   "name": "python3"
  },
  "language_info": {
   "name": "python",
   "version": "3.11.5"
  }
 },
 "nbformat": 4,
 "nbformat_minor": 2
}
