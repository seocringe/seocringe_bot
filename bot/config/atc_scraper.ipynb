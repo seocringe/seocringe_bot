{
 "cells": [
  {
   "cell_type": "code",
   "execution_count": 1,
   "source": [
    "import asyncio\n",
    "import pandas as pd\n",
    "\n",
    "class WHOCCAtcDddIndex:\n",
    "\n",
    "    def __init__(self):\n",
    "        self.base_url = \"https://www.whocc.no/atc_ddd_index\"\n",
    "\n",
    "    async def fetch_data(self):\n",
    "        pass\n",
    "\n",
    "\n",
    "async def scrape_and_save_atc_data():\n",
    "    scraper = WHOCCAtcDddIndex()\n",
    "    data = await scraper.fetch_data()\n",
    "\n",
    "    df = pd.DataFrame(data)  # Пример: замените на фактическую обработку данных\n",
    "    file_name = \"atc_data.xlsx\"\n",
    "    df.to_excel(file_name, index=False)\n",
    "    return file_name\n",
    "\n",
    "\n",
    "# Эта часть для тестирования скрипта, если запускается как основная программа\n",
    "if __name__ == \"__main__\":\n",
    "    if not asyncio.get_event_loop().is_running():\n",
    "        loop = asyncio.get_event_loop()\n",
    "        file_path = loop.run_until_complete(scrape_and_save_atc_data())\n",
    "        print(f\"Data saved to {file_path}\")\n",
    "    else:\n",
    "        print(\"Event loop is already running\")"
   ],
   "outputs": [
    {
     "output_type": "stream",
     "name": "stdout",
     "text": [
      "Event loop is already running\n"
     ]
    }
   ],
   "metadata": {}
  }
 ],
 "nbformat": 4,
 "nbformat_minor": 2,
 "metadata": {
  "language_info": {
   "codemirror_mode": {
    "name": "ipython",
    "version": 3
   },
   "file_extension": ".py",
   "mimetype": "text/x-python",
   "name": "python",
   "nbconvert_exporter": "python",
   "pygments_lexer": "ipython3",
   "version": 3
  }
 }
}